{
 "cells": [
  {
   "cell_type": "code",
   "execution_count": 1,
   "metadata": {},
   "outputs": [],
   "source": [
    "import pandas as pd\n",
    "import nltk\n",
    "import pickle\n"
   ]
  },
  {
   "cell_type": "code",
   "execution_count": 2,
   "metadata": {},
   "outputs": [
    {
     "name": "stderr",
     "output_type": "stream",
     "text": [
      "[nltk_data] Downloading package stopwords to /home/thomas/nltk_data...\n",
      "[nltk_data]   Package stopwords is already up-to-date!\n"
     ]
    }
   ],
   "source": [
    "nltk.download(\"stopwords\")\n",
    "from nltk.corpus import stopwords\n",
    "from nltk.stem.porter import *"
   ]
  },
  {
   "cell_type": "code",
   "execution_count": 3,
   "metadata": {},
   "outputs": [],
   "source": [
    "stemmer = PorterStemmer()\n",
    "stopwords_english = stopwords.words(\"english\")"
   ]
  },
  {
   "cell_type": "code",
   "execution_count": 4,
   "metadata": {},
   "outputs": [],
   "source": [
    "train_clean = pd.read_csv(\"train_clean.csv\")\n",
    "test_clean = pd.read_csv(\"test_clean.csv\")"
   ]
  },
  {
   "cell_type": "code",
   "execution_count": 5,
   "metadata": {},
   "outputs": [
    {
     "data": {
      "text/html": [
       "<div>\n",
       "<style scoped>\n",
       "    .dataframe tbody tr th:only-of-type {\n",
       "        vertical-align: middle;\n",
       "    }\n",
       "\n",
       "    .dataframe tbody tr th {\n",
       "        vertical-align: top;\n",
       "    }\n",
       "\n",
       "    .dataframe thead th {\n",
       "        text-align: right;\n",
       "    }\n",
       "</style>\n",
       "<table border=\"1\" class=\"dataframe\">\n",
       "  <thead>\n",
       "    <tr style=\"text-align: right;\">\n",
       "      <th></th>\n",
       "      <th>target</th>\n",
       "      <th>clean_text</th>\n",
       "    </tr>\n",
       "  </thead>\n",
       "  <tbody>\n",
       "    <tr>\n",
       "      <th>0</th>\n",
       "      <td>1</td>\n",
       "      <td>last night i finished re watching  jane eyre  ...</td>\n",
       "    </tr>\n",
       "    <tr>\n",
       "      <th>1</th>\n",
       "      <td>1</td>\n",
       "      <td>maybe i m a sap but this is the sweetest movie...</td>\n",
       "    </tr>\n",
       "    <tr>\n",
       "      <th>2</th>\n",
       "      <td>0</td>\n",
       "      <td>in keeping with disney s well known practice o...</td>\n",
       "    </tr>\n",
       "    <tr>\n",
       "      <th>3</th>\n",
       "      <td>1</td>\n",
       "      <td>john waters has given us a genuinely enjoyable...</td>\n",
       "    </tr>\n",
       "    <tr>\n",
       "      <th>4</th>\n",
       "      <td>0</td>\n",
       "      <td>i m starting to write this review during a bre...</td>\n",
       "    </tr>\n",
       "  </tbody>\n",
       "</table>\n",
       "</div>"
      ],
      "text/plain": [
       "   target                                         clean_text\n",
       "0       1  last night i finished re watching  jane eyre  ...\n",
       "1       1  maybe i m a sap but this is the sweetest movie...\n",
       "2       0  in keeping with disney s well known practice o...\n",
       "3       1  john waters has given us a genuinely enjoyable...\n",
       "4       0  i m starting to write this review during a bre..."
      ]
     },
     "execution_count": 5,
     "metadata": {},
     "output_type": "execute_result"
    }
   ],
   "source": [
    "train_clean.head()"
   ]
  },
  {
   "cell_type": "code",
   "execution_count": 6,
   "metadata": {},
   "outputs": [],
   "source": [
    "def review_to_words(text):\n",
    "    words = text.split() # Split string into words\n",
    "    words = [w for w in words if w not in stopwords_english] # Remove stopwords\n",
    "    words = [PorterStemmer().stem(w) for w in words] # stem\n",
    "    \n",
    "    return words"
   ]
  },
  {
   "cell_type": "code",
   "execution_count": 7,
   "metadata": {},
   "outputs": [],
   "source": [
    "sample_train = train_clean[\"clean_text\"][0]"
   ]
  },
  {
   "cell_type": "code",
   "execution_count": 8,
   "metadata": {},
   "outputs": [
    {
     "data": {
      "text/plain": [
       "'last night i finished re watching  jane eyre   1983   the bbc mini series adapted from charlotte bronte s gothic romance novel which is deservingly a classic of english literature with timothy dalton  my favorite james bond  as mr  edward rochester and zelah clarke  as jane eyre  a poor orphaned 18 year old girl  a governess at mr  rochester s estate  thornfield   jane eyre  has been one of my most beloved books since i was an 11 years old girl and the friend of mine gave it to me with the words   this book is amazing  and so it was and i have read it dozens of times and i am still not tired of it  its beautiful language  refined  fragrant  and surprisingly fresh  the dialogs  and above all  two main characters  and the story of their impossible love have attracted many filmmakers   jane eyre  has been adapted to tv and big screen many times  18 according to imdb  the actors as famous and marvelous as joan fontaine and orson welles  william hurt and charlotte gainsbourg  george c  scott and susannah york  ciar n hinds and samantha morton have played the couple that had overcome hundreds of obstacles made by society  laws  religion  by the differences in age  backgrounds  experiences  and by the fateful mistakes that would hunt one for many years  of all these films i ve only seen one  300 minutes long bbc version from 1983 that follows the novel closely and where timothy dalton who frequently plays dark  brooding characters did not just play edward rochester brilliantly and with class  he was mr  rochester   sardonic  vibrant  the force of nature  powerful  passionate  sexy  and tormented master of thornfield  zelah clarke was also convincing as sweet  gentle  intelligent and strong jane who feels deeply and is full of passion mixed with clear reasoning  and quiet but firm willpower added on september 17  2007  during the last two weeks  i ve seen five  jane eyre  movies and it was a wonderful experience  there is something to admire in every adaptation of  jane eyre  even if not all of them are completely successful  this version is still my favorite  jane eyre  film '"
      ]
     },
     "execution_count": 8,
     "metadata": {},
     "output_type": "execute_result"
    }
   ],
   "source": [
    "sample_train"
   ]
  },
  {
   "cell_type": "code",
   "execution_count": 9,
   "metadata": {},
   "outputs": [
    {
     "data": {
      "text/plain": [
       "['last',\n",
       " 'night',\n",
       " 'finish',\n",
       " 'watch',\n",
       " 'jane',\n",
       " 'eyr',\n",
       " '1983',\n",
       " 'bbc',\n",
       " 'mini',\n",
       " 'seri',\n",
       " 'adapt',\n",
       " 'charlott',\n",
       " 'bront',\n",
       " 'gothic',\n",
       " 'romanc',\n",
       " 'novel',\n",
       " 'deservingli',\n",
       " 'classic',\n",
       " 'english',\n",
       " 'literatur',\n",
       " 'timothi',\n",
       " 'dalton',\n",
       " 'favorit',\n",
       " 'jame',\n",
       " 'bond',\n",
       " 'mr',\n",
       " 'edward',\n",
       " 'rochest',\n",
       " 'zelah',\n",
       " 'clark',\n",
       " 'jane',\n",
       " 'eyr',\n",
       " 'poor',\n",
       " 'orphan',\n",
       " '18',\n",
       " 'year',\n",
       " 'old',\n",
       " 'girl',\n",
       " 'gover',\n",
       " 'mr',\n",
       " 'rochest',\n",
       " 'estat',\n",
       " 'thornfield',\n",
       " 'jane',\n",
       " 'eyr',\n",
       " 'one',\n",
       " 'belov',\n",
       " 'book',\n",
       " 'sinc',\n",
       " '11',\n",
       " 'year',\n",
       " 'old',\n",
       " 'girl',\n",
       " 'friend',\n",
       " 'mine',\n",
       " 'gave',\n",
       " 'word',\n",
       " 'book',\n",
       " 'amaz',\n",
       " 'read',\n",
       " 'dozen',\n",
       " 'time',\n",
       " 'still',\n",
       " 'tire',\n",
       " 'beauti',\n",
       " 'languag',\n",
       " 'refin',\n",
       " 'fragrant',\n",
       " 'surprisingli',\n",
       " 'fresh',\n",
       " 'dialog',\n",
       " 'two',\n",
       " 'main',\n",
       " 'charact',\n",
       " 'stori',\n",
       " 'imposs',\n",
       " 'love',\n",
       " 'attract',\n",
       " 'mani',\n",
       " 'filmmak',\n",
       " 'jane',\n",
       " 'eyr',\n",
       " 'adapt',\n",
       " 'tv',\n",
       " 'big',\n",
       " 'screen',\n",
       " 'mani',\n",
       " 'time',\n",
       " '18',\n",
       " 'accord',\n",
       " 'imdb',\n",
       " 'actor',\n",
       " 'famou',\n",
       " 'marvel',\n",
       " 'joan',\n",
       " 'fontain',\n",
       " 'orson',\n",
       " 'well',\n",
       " 'william',\n",
       " 'hurt',\n",
       " 'charlott',\n",
       " 'gainsbourg',\n",
       " 'georg',\n",
       " 'c',\n",
       " 'scott',\n",
       " 'susannah',\n",
       " 'york',\n",
       " 'ciar',\n",
       " 'n',\n",
       " 'hind',\n",
       " 'samantha',\n",
       " 'morton',\n",
       " 'play',\n",
       " 'coupl',\n",
       " 'overcom',\n",
       " 'hundr',\n",
       " 'obstacl',\n",
       " 'made',\n",
       " 'societi',\n",
       " 'law',\n",
       " 'religion',\n",
       " 'differ',\n",
       " 'age',\n",
       " 'background',\n",
       " 'experi',\n",
       " 'fate',\n",
       " 'mistak',\n",
       " 'would',\n",
       " 'hunt',\n",
       " 'one',\n",
       " 'mani',\n",
       " 'year',\n",
       " 'film',\n",
       " 'seen',\n",
       " 'one',\n",
       " '300',\n",
       " 'minut',\n",
       " 'long',\n",
       " 'bbc',\n",
       " 'version',\n",
       " '1983',\n",
       " 'follow',\n",
       " 'novel',\n",
       " 'close',\n",
       " 'timothi',\n",
       " 'dalton',\n",
       " 'frequent',\n",
       " 'play',\n",
       " 'dark',\n",
       " 'brood',\n",
       " 'charact',\n",
       " 'play',\n",
       " 'edward',\n",
       " 'rochest',\n",
       " 'brilliantli',\n",
       " 'class',\n",
       " 'mr',\n",
       " 'rochest',\n",
       " 'sardon',\n",
       " 'vibrant',\n",
       " 'forc',\n",
       " 'natur',\n",
       " 'power',\n",
       " 'passion',\n",
       " 'sexi',\n",
       " 'torment',\n",
       " 'master',\n",
       " 'thornfield',\n",
       " 'zelah',\n",
       " 'clark',\n",
       " 'also',\n",
       " 'convinc',\n",
       " 'sweet',\n",
       " 'gentl',\n",
       " 'intellig',\n",
       " 'strong',\n",
       " 'jane',\n",
       " 'feel',\n",
       " 'deepli',\n",
       " 'full',\n",
       " 'passion',\n",
       " 'mix',\n",
       " 'clear',\n",
       " 'reason',\n",
       " 'quiet',\n",
       " 'firm',\n",
       " 'willpow',\n",
       " 'ad',\n",
       " 'septemb',\n",
       " '17',\n",
       " '2007',\n",
       " 'last',\n",
       " 'two',\n",
       " 'week',\n",
       " 'seen',\n",
       " 'five',\n",
       " 'jane',\n",
       " 'eyr',\n",
       " 'movi',\n",
       " 'wonder',\n",
       " 'experi',\n",
       " 'someth',\n",
       " 'admir',\n",
       " 'everi',\n",
       " 'adapt',\n",
       " 'jane',\n",
       " 'eyr',\n",
       " 'even',\n",
       " 'complet',\n",
       " 'success',\n",
       " 'version',\n",
       " 'still',\n",
       " 'favorit',\n",
       " 'jane',\n",
       " 'eyr',\n",
       " 'film']"
      ]
     },
     "execution_count": 9,
     "metadata": {},
     "output_type": "execute_result"
    }
   ],
   "source": [
    "result_train = review_to_words(sample_train)\n",
    "result_train"
   ]
  },
  {
   "cell_type": "code",
   "execution_count": 10,
   "metadata": {},
   "outputs": [],
   "source": [
    "train_clean['final_text'] = train_clean[\"clean_text\"].apply(review_to_words)\n",
    "test_clean['final_text'] = test_clean[\"clean_text\"].apply(review_to_words)"
   ]
  },
  {
   "cell_type": "code",
   "execution_count": 11,
   "metadata": {},
   "outputs": [
    {
     "data": {
      "text/html": [
       "<div>\n",
       "<style scoped>\n",
       "    .dataframe tbody tr th:only-of-type {\n",
       "        vertical-align: middle;\n",
       "    }\n",
       "\n",
       "    .dataframe tbody tr th {\n",
       "        vertical-align: top;\n",
       "    }\n",
       "\n",
       "    .dataframe thead th {\n",
       "        text-align: right;\n",
       "    }\n",
       "</style>\n",
       "<table border=\"1\" class=\"dataframe\">\n",
       "  <thead>\n",
       "    <tr style=\"text-align: right;\">\n",
       "      <th></th>\n",
       "      <th>target</th>\n",
       "      <th>clean_text</th>\n",
       "      <th>final_text</th>\n",
       "    </tr>\n",
       "  </thead>\n",
       "  <tbody>\n",
       "    <tr>\n",
       "      <th>0</th>\n",
       "      <td>1</td>\n",
       "      <td>last night i finished re watching  jane eyre  ...</td>\n",
       "      <td>[last, night, finish, watch, jane, eyr, 1983, ...</td>\n",
       "    </tr>\n",
       "    <tr>\n",
       "      <th>1</th>\n",
       "      <td>1</td>\n",
       "      <td>maybe i m a sap but this is the sweetest movie...</td>\n",
       "      <td>[mayb, sap, sweetest, movi, ever, saw, first, ...</td>\n",
       "    </tr>\n",
       "    <tr>\n",
       "      <th>2</th>\n",
       "      <td>0</td>\n",
       "      <td>in keeping with disney s well known practice o...</td>\n",
       "      <td>[keep, disney, well, known, practic, steal, me...</td>\n",
       "    </tr>\n",
       "    <tr>\n",
       "      <th>3</th>\n",
       "      <td>1</td>\n",
       "      <td>john waters has given us a genuinely enjoyable...</td>\n",
       "      <td>[john, water, given, us, genuin, enjoy, film, ...</td>\n",
       "    </tr>\n",
       "    <tr>\n",
       "      <th>4</th>\n",
       "      <td>0</td>\n",
       "      <td>i m starting to write this review during a bre...</td>\n",
       "      <td>[start, write, review, break, watch, movi, fir...</td>\n",
       "    </tr>\n",
       "  </tbody>\n",
       "</table>\n",
       "</div>"
      ],
      "text/plain": [
       "   target                                         clean_text  \\\n",
       "0       1  last night i finished re watching  jane eyre  ...   \n",
       "1       1  maybe i m a sap but this is the sweetest movie...   \n",
       "2       0  in keeping with disney s well known practice o...   \n",
       "3       1  john waters has given us a genuinely enjoyable...   \n",
       "4       0  i m starting to write this review during a bre...   \n",
       "\n",
       "                                          final_text  \n",
       "0  [last, night, finish, watch, jane, eyr, 1983, ...  \n",
       "1  [mayb, sap, sweetest, movi, ever, saw, first, ...  \n",
       "2  [keep, disney, well, known, practic, steal, me...  \n",
       "3  [john, water, given, us, genuin, enjoy, film, ...  \n",
       "4  [start, write, review, break, watch, movi, fir...  "
      ]
     },
     "execution_count": 11,
     "metadata": {},
     "output_type": "execute_result"
    }
   ],
   "source": [
    "train_clean.head()"
   ]
  },
  {
   "cell_type": "code",
   "execution_count": 12,
   "metadata": {},
   "outputs": [],
   "source": [
    "del train_clean['clean_text']\n",
    "del test_clean['clean_text']"
   ]
  },
  {
   "cell_type": "code",
   "execution_count": 13,
   "metadata": {},
   "outputs": [],
   "source": [
    "train_clean.to_csv(\"train_words.csv\",index=False)\n",
    "test_clean.to_csv(\"test_words.csv\",index=False)"
   ]
  },
  {
   "cell_type": "code",
   "execution_count": 14,
   "metadata": {},
   "outputs": [],
   "source": [
    "cache_data = {\n",
    "    \"train_words\":train_clean, \n",
    "    \"test_words\":test_clean\n",
    "}"
   ]
  },
  {
   "cell_type": "code",
   "execution_count": 15,
   "metadata": {},
   "outputs": [],
   "source": [
    "with open('data_words.pickle', \"wb\") as f:\n",
    "                pickle.dump(cache_data, f)"
   ]
  },
  {
   "cell_type": "code",
   "execution_count": null,
   "metadata": {},
   "outputs": [],
   "source": []
  }
 ],
 "metadata": {
  "kernelspec": {
   "display_name": "Python 3",
   "language": "python",
   "name": "python3"
  },
  "language_info": {
   "codemirror_mode": {
    "name": "ipython",
    "version": 3
   },
   "file_extension": ".py",
   "mimetype": "text/x-python",
   "name": "python",
   "nbconvert_exporter": "python",
   "pygments_lexer": "ipython3",
   "version": "3.5.2"
  }
 },
 "nbformat": 4,
 "nbformat_minor": 4
}
