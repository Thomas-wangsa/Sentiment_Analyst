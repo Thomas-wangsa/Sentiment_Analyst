{
 "cells": [
  {
   "cell_type": "code",
   "execution_count": 1,
   "metadata": {},
   "outputs": [],
   "source": [
    "import pandas as pd\n",
    "import nltk\n",
    "import pickle\n"
   ]
  },
  {
   "cell_type": "code",
   "execution_count": 2,
   "metadata": {},
   "outputs": [
    {
     "name": "stderr",
     "output_type": "stream",
     "text": [
      "[nltk_data] Downloading package stopwords to /home/thomas/nltk_data...\n",
      "[nltk_data]   Package stopwords is already up-to-date!\n"
     ]
    }
   ],
   "source": [
    "nltk.download(\"stopwords\")\n",
    "from nltk.corpus import stopwords\n",
    "from nltk.stem.porter import *"
   ]
  },
  {
   "cell_type": "code",
   "execution_count": 3,
   "metadata": {},
   "outputs": [],
   "source": [
    "stemmer = PorterStemmer()\n",
    "stopwords_english = stopwords.words(\"english\")"
   ]
  },
  {
   "cell_type": "code",
   "execution_count": 4,
   "metadata": {},
   "outputs": [],
   "source": [
    "train_clean = pd.read_csv(\"train_clean.csv\")\n",
    "test_clean = pd.read_csv(\"test_clean.csv\")"
   ]
  },
  {
   "cell_type": "code",
   "execution_count": 5,
   "metadata": {},
   "outputs": [
    {
     "data": {
      "text/html": [
       "<div>\n",
       "<style scoped>\n",
       "    .dataframe tbody tr th:only-of-type {\n",
       "        vertical-align: middle;\n",
       "    }\n",
       "\n",
       "    .dataframe tbody tr th {\n",
       "        vertical-align: top;\n",
       "    }\n",
       "\n",
       "    .dataframe thead th {\n",
       "        text-align: right;\n",
       "    }\n",
       "</style>\n",
       "<table border=\"1\" class=\"dataframe\">\n",
       "  <thead>\n",
       "    <tr style=\"text-align: right;\">\n",
       "      <th></th>\n",
       "      <th>target</th>\n",
       "      <th>clean_text</th>\n",
       "    </tr>\n",
       "  </thead>\n",
       "  <tbody>\n",
       "    <tr>\n",
       "      <th>0</th>\n",
       "      <td>1</td>\n",
       "      <td>last night i finished re watching  jane eyre  ...</td>\n",
       "    </tr>\n",
       "    <tr>\n",
       "      <th>1</th>\n",
       "      <td>1</td>\n",
       "      <td>maybe i m a sap but this is the sweetest movie...</td>\n",
       "    </tr>\n",
       "    <tr>\n",
       "      <th>2</th>\n",
       "      <td>0</td>\n",
       "      <td>in keeping with disney s well known practice o...</td>\n",
       "    </tr>\n",
       "    <tr>\n",
       "      <th>3</th>\n",
       "      <td>1</td>\n",
       "      <td>john waters has given us a genuinely enjoyable...</td>\n",
       "    </tr>\n",
       "    <tr>\n",
       "      <th>4</th>\n",
       "      <td>0</td>\n",
       "      <td>i m starting to write this review during a bre...</td>\n",
       "    </tr>\n",
       "  </tbody>\n",
       "</table>\n",
       "</div>"
      ],
      "text/plain": [
       "   target                                         clean_text\n",
       "0       1  last night i finished re watching  jane eyre  ...\n",
       "1       1  maybe i m a sap but this is the sweetest movie...\n",
       "2       0  in keeping with disney s well known practice o...\n",
       "3       1  john waters has given us a genuinely enjoyable...\n",
       "4       0  i m starting to write this review during a bre..."
      ]
     },
     "execution_count": 5,
     "metadata": {},
     "output_type": "execute_result"
    }
   ],
   "source": [
    "train_clean.head()"
   ]
  },
  {
   "cell_type": "code",
   "execution_count": 19,
   "metadata": {},
   "outputs": [],
   "source": [
    "def review_to_words(text):\n",
    "    words = text.split() # Split string into words\n",
    "    words = [w for w in words if w not in stopwords_english] # Remove stopwords\n",
    "    words = [PorterStemmer().stem(w) for w in words] # stem\n",
    "    return words"
   ]
  },
  {
   "cell_type": "code",
   "execution_count": 20,
   "metadata": {},
   "outputs": [],
   "source": [
    "def review_to_words2(text):\n",
    "    words = text.split() # Split string into words\n",
    "    print(\"words1 : \", words)\n",
    "    words = [w for w in words if w not in stopwords_english] # Remove stopwords\n",
    "    print(\"words2 : \", words)\n",
    "    \n",
    "    final_words = []\n",
    "    for w in words :\n",
    "        result = PorterStemmer().stem(w)\n",
    "        print(\"result :\", result)\n",
    "        final_words.append(result)\n",
    "    \n",
    "    print(\"final_words : \", final_words)\n",
    "    return final_words"
   ]
  },
  {
   "cell_type": "code",
   "execution_count": 21,
   "metadata": {},
   "outputs": [],
   "source": [
    "sample_train = train_clean[\"clean_text\"][0]"
   ]
  },
  {
   "cell_type": "code",
   "execution_count": 37,
   "metadata": {},
   "outputs": [],
   "source": [
    "sample_train = \"This is not good movie\""
   ]
  },
  {
   "cell_type": "code",
   "execution_count": 38,
   "metadata": {},
   "outputs": [
    {
     "name": "stdout",
     "output_type": "stream",
     "text": [
      "words1 :  ['This', 'is', 'not', 'good', 'movie']\n",
      "words2 :  ['This', 'good', 'movie']\n",
      "result : thi\n",
      "result : good\n",
      "result : movi\n",
      "final_words :  ['thi', 'good', 'movi']\n"
     ]
    },
    {
     "data": {
      "text/plain": [
       "['thi', 'good', 'movi']"
      ]
     },
     "execution_count": 38,
     "metadata": {},
     "output_type": "execute_result"
    }
   ],
   "source": [
    "result_train = review_to_words2(sample_train)\n",
    "result_train"
   ]
  },
  {
   "cell_type": "code",
   "execution_count": 10,
   "metadata": {},
   "outputs": [],
   "source": [
    "train_clean['final_text'] = train_clean[\"clean_text\"].apply(review_to_words)\n",
    "test_clean['final_text'] = test_clean[\"clean_text\"].apply(review_to_words)"
   ]
  },
  {
   "cell_type": "code",
   "execution_count": 11,
   "metadata": {},
   "outputs": [
    {
     "data": {
      "text/html": [
       "<div>\n",
       "<style scoped>\n",
       "    .dataframe tbody tr th:only-of-type {\n",
       "        vertical-align: middle;\n",
       "    }\n",
       "\n",
       "    .dataframe tbody tr th {\n",
       "        vertical-align: top;\n",
       "    }\n",
       "\n",
       "    .dataframe thead th {\n",
       "        text-align: right;\n",
       "    }\n",
       "</style>\n",
       "<table border=\"1\" class=\"dataframe\">\n",
       "  <thead>\n",
       "    <tr style=\"text-align: right;\">\n",
       "      <th></th>\n",
       "      <th>target</th>\n",
       "      <th>clean_text</th>\n",
       "      <th>final_text</th>\n",
       "    </tr>\n",
       "  </thead>\n",
       "  <tbody>\n",
       "    <tr>\n",
       "      <th>0</th>\n",
       "      <td>1</td>\n",
       "      <td>last night i finished re watching  jane eyre  ...</td>\n",
       "      <td>[last, night, finish, watch, jane, eyr, 1983, ...</td>\n",
       "    </tr>\n",
       "    <tr>\n",
       "      <th>1</th>\n",
       "      <td>1</td>\n",
       "      <td>maybe i m a sap but this is the sweetest movie...</td>\n",
       "      <td>[mayb, sap, sweetest, movi, ever, saw, first, ...</td>\n",
       "    </tr>\n",
       "    <tr>\n",
       "      <th>2</th>\n",
       "      <td>0</td>\n",
       "      <td>in keeping with disney s well known practice o...</td>\n",
       "      <td>[keep, disney, well, known, practic, steal, me...</td>\n",
       "    </tr>\n",
       "    <tr>\n",
       "      <th>3</th>\n",
       "      <td>1</td>\n",
       "      <td>john waters has given us a genuinely enjoyable...</td>\n",
       "      <td>[john, water, given, us, genuin, enjoy, film, ...</td>\n",
       "    </tr>\n",
       "    <tr>\n",
       "      <th>4</th>\n",
       "      <td>0</td>\n",
       "      <td>i m starting to write this review during a bre...</td>\n",
       "      <td>[start, write, review, break, watch, movi, fir...</td>\n",
       "    </tr>\n",
       "  </tbody>\n",
       "</table>\n",
       "</div>"
      ],
      "text/plain": [
       "   target                                         clean_text  \\\n",
       "0       1  last night i finished re watching  jane eyre  ...   \n",
       "1       1  maybe i m a sap but this is the sweetest movie...   \n",
       "2       0  in keeping with disney s well known practice o...   \n",
       "3       1  john waters has given us a genuinely enjoyable...   \n",
       "4       0  i m starting to write this review during a bre...   \n",
       "\n",
       "                                          final_text  \n",
       "0  [last, night, finish, watch, jane, eyr, 1983, ...  \n",
       "1  [mayb, sap, sweetest, movi, ever, saw, first, ...  \n",
       "2  [keep, disney, well, known, practic, steal, me...  \n",
       "3  [john, water, given, us, genuin, enjoy, film, ...  \n",
       "4  [start, write, review, break, watch, movi, fir...  "
      ]
     },
     "execution_count": 11,
     "metadata": {},
     "output_type": "execute_result"
    }
   ],
   "source": [
    "train_clean.head()"
   ]
  },
  {
   "cell_type": "code",
   "execution_count": 12,
   "metadata": {},
   "outputs": [],
   "source": [
    "del train_clean['clean_text']\n",
    "del test_clean['clean_text']"
   ]
  },
  {
   "cell_type": "code",
   "execution_count": 13,
   "metadata": {},
   "outputs": [],
   "source": [
    "train_clean.to_csv(\"train_words.csv\",index=False)\n",
    "test_clean.to_csv(\"test_words.csv\",index=False)"
   ]
  },
  {
   "cell_type": "code",
   "execution_count": 14,
   "metadata": {},
   "outputs": [],
   "source": [
    "cache_data = {\n",
    "    \"train_words\":train_clean, \n",
    "    \"test_words\":test_clean\n",
    "}"
   ]
  },
  {
   "cell_type": "code",
   "execution_count": 15,
   "metadata": {},
   "outputs": [],
   "source": [
    "with open('data_words.pickle', \"wb\") as f:\n",
    "                pickle.dump(cache_data, f)"
   ]
  },
  {
   "cell_type": "code",
   "execution_count": null,
   "metadata": {},
   "outputs": [],
   "source": []
  }
 ],
 "metadata": {
  "kernelspec": {
   "display_name": "Python 3",
   "language": "python",
   "name": "python3"
  },
  "language_info": {
   "codemirror_mode": {
    "name": "ipython",
    "version": 3
   },
   "file_extension": ".py",
   "mimetype": "text/x-python",
   "name": "python",
   "nbconvert_exporter": "python",
   "pygments_lexer": "ipython3",
   "version": "3.5.2"
  }
 },
 "nbformat": 4,
 "nbformat_minor": 4
}
