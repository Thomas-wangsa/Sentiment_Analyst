{
 "cells": [
  {
   "cell_type": "code",
   "execution_count": 1,
   "metadata": {},
   "outputs": [],
   "source": [
    "import pandas as pd\n",
    "from bs4 import BeautifulSoup\n",
    "import re"
   ]
  },
  {
   "cell_type": "code",
   "execution_count": 2,
   "metadata": {},
   "outputs": [],
   "source": [
    "train_raw = pd.read_csv(\"train_raw.csv\")\n",
    "test_raw = pd.read_csv(\"test_raw.csv\")"
   ]
  },
  {
   "cell_type": "code",
   "execution_count": 3,
   "metadata": {},
   "outputs": [],
   "source": [
    "def clean_html(review) : \n",
    "    text = BeautifulSoup(review, \"html.parser\").get_text() # Remove HTML tags\n",
    "    text = re.sub(r\"[^a-zA-Z0-9]\", \" \", text.lower()) # Convert to lower case\n",
    "    return text"
   ]
  },
  {
   "cell_type": "code",
   "execution_count": 4,
   "metadata": {},
   "outputs": [],
   "source": [
    "train_raw['clean_text'] = train_raw[\"text\"].apply(clean_html)\n",
    "test_raw['clean_text'] = test_raw[\"text\"].apply(clean_html)"
   ]
  },
  {
   "cell_type": "code",
   "execution_count": 5,
   "metadata": {},
   "outputs": [
    {
     "data": {
      "text/html": [
       "<div>\n",
       "<style scoped>\n",
       "    .dataframe tbody tr th:only-of-type {\n",
       "        vertical-align: middle;\n",
       "    }\n",
       "\n",
       "    .dataframe tbody tr th {\n",
       "        vertical-align: top;\n",
       "    }\n",
       "\n",
       "    .dataframe thead th {\n",
       "        text-align: right;\n",
       "    }\n",
       "</style>\n",
       "<table border=\"1\" class=\"dataframe\">\n",
       "  <thead>\n",
       "    <tr style=\"text-align: right;\">\n",
       "      <th></th>\n",
       "      <th>text</th>\n",
       "      <th>target</th>\n",
       "      <th>clean_text</th>\n",
       "    </tr>\n",
       "  </thead>\n",
       "  <tbody>\n",
       "    <tr>\n",
       "      <th>0</th>\n",
       "      <td>Last night I finished re-watching \"Jane Eyre\" ...</td>\n",
       "      <td>1</td>\n",
       "      <td>last night i finished re watching  jane eyre  ...</td>\n",
       "    </tr>\n",
       "    <tr>\n",
       "      <th>1</th>\n",
       "      <td>Maybe I'm a sap but this is the sweetest movie...</td>\n",
       "      <td>1</td>\n",
       "      <td>maybe i m a sap but this is the sweetest movie...</td>\n",
       "    </tr>\n",
       "    <tr>\n",
       "      <th>2</th>\n",
       "      <td>In keeping with Disney's well-known practice o...</td>\n",
       "      <td>0</td>\n",
       "      <td>in keeping with disney s well known practice o...</td>\n",
       "    </tr>\n",
       "    <tr>\n",
       "      <th>3</th>\n",
       "      <td>John Waters has given us a genuinely enjoyable...</td>\n",
       "      <td>1</td>\n",
       "      <td>john waters has given us a genuinely enjoyable...</td>\n",
       "    </tr>\n",
       "    <tr>\n",
       "      <th>4</th>\n",
       "      <td>I'm starting to write this review during a bre...</td>\n",
       "      <td>0</td>\n",
       "      <td>i m starting to write this review during a bre...</td>\n",
       "    </tr>\n",
       "  </tbody>\n",
       "</table>\n",
       "</div>"
      ],
      "text/plain": [
       "                                                text  target  \\\n",
       "0  Last night I finished re-watching \"Jane Eyre\" ...       1   \n",
       "1  Maybe I'm a sap but this is the sweetest movie...       1   \n",
       "2  In keeping with Disney's well-known practice o...       0   \n",
       "3  John Waters has given us a genuinely enjoyable...       1   \n",
       "4  I'm starting to write this review during a bre...       0   \n",
       "\n",
       "                                          clean_text  \n",
       "0  last night i finished re watching  jane eyre  ...  \n",
       "1  maybe i m a sap but this is the sweetest movie...  \n",
       "2  in keeping with disney s well known practice o...  \n",
       "3  john waters has given us a genuinely enjoyable...  \n",
       "4  i m starting to write this review during a bre...  "
      ]
     },
     "execution_count": 5,
     "metadata": {},
     "output_type": "execute_result"
    }
   ],
   "source": [
    "train_raw.head()"
   ]
  },
  {
   "cell_type": "code",
   "execution_count": 6,
   "metadata": {},
   "outputs": [
    {
     "data": {
      "text/html": [
       "<div>\n",
       "<style scoped>\n",
       "    .dataframe tbody tr th:only-of-type {\n",
       "        vertical-align: middle;\n",
       "    }\n",
       "\n",
       "    .dataframe tbody tr th {\n",
       "        vertical-align: top;\n",
       "    }\n",
       "\n",
       "    .dataframe thead th {\n",
       "        text-align: right;\n",
       "    }\n",
       "</style>\n",
       "<table border=\"1\" class=\"dataframe\">\n",
       "  <thead>\n",
       "    <tr style=\"text-align: right;\">\n",
       "      <th></th>\n",
       "      <th>text</th>\n",
       "      <th>target</th>\n",
       "      <th>clean_text</th>\n",
       "    </tr>\n",
       "  </thead>\n",
       "  <tbody>\n",
       "    <tr>\n",
       "      <th>0</th>\n",
       "      <td>From the late Sydney Pollack comes a grown up ...</td>\n",
       "      <td>1</td>\n",
       "      <td>from the late sydney pollack comes a grown up ...</td>\n",
       "    </tr>\n",
       "    <tr>\n",
       "      <th>1</th>\n",
       "      <td>A fairly interesting look at some characters f...</td>\n",
       "      <td>1</td>\n",
       "      <td>a fairly interesting look at some characters f...</td>\n",
       "    </tr>\n",
       "    <tr>\n",
       "      <th>2</th>\n",
       "      <td>I had the opportunity to see this last evening...</td>\n",
       "      <td>1</td>\n",
       "      <td>i had the opportunity to see this last evening...</td>\n",
       "    </tr>\n",
       "    <tr>\n",
       "      <th>3</th>\n",
       "      <td>Another Raquel Welch Classic! This Picture hit...</td>\n",
       "      <td>1</td>\n",
       "      <td>another raquel welch classic  this picture hit...</td>\n",
       "    </tr>\n",
       "    <tr>\n",
       "      <th>4</th>\n",
       "      <td>Rocketship X-M should be viewed by any serious...</td>\n",
       "      <td>0</td>\n",
       "      <td>rocketship x m should be viewed by any serious...</td>\n",
       "    </tr>\n",
       "  </tbody>\n",
       "</table>\n",
       "</div>"
      ],
      "text/plain": [
       "                                                text  target  \\\n",
       "0  From the late Sydney Pollack comes a grown up ...       1   \n",
       "1  A fairly interesting look at some characters f...       1   \n",
       "2  I had the opportunity to see this last evening...       1   \n",
       "3  Another Raquel Welch Classic! This Picture hit...       1   \n",
       "4  Rocketship X-M should be viewed by any serious...       0   \n",
       "\n",
       "                                          clean_text  \n",
       "0  from the late sydney pollack comes a grown up ...  \n",
       "1  a fairly interesting look at some characters f...  \n",
       "2  i had the opportunity to see this last evening...  \n",
       "3  another raquel welch classic  this picture hit...  \n",
       "4  rocketship x m should be viewed by any serious...  "
      ]
     },
     "execution_count": 6,
     "metadata": {},
     "output_type": "execute_result"
    }
   ],
   "source": [
    "test_raw.head()"
   ]
  },
  {
   "cell_type": "code",
   "execution_count": 7,
   "metadata": {},
   "outputs": [],
   "source": [
    "del train_raw['text']\n",
    "del test_raw['text']"
   ]
  },
  {
   "cell_type": "code",
   "execution_count": 8,
   "metadata": {},
   "outputs": [],
   "source": [
    "train_raw.to_csv(\"train_clean.csv\",index=False)\n",
    "test_raw.to_csv(\"test_clean.csv\",index=False)"
   ]
  }
 ],
 "metadata": {
  "kernelspec": {
   "display_name": "Python 3",
   "language": "python",
   "name": "python3"
  },
  "language_info": {
   "codemirror_mode": {
    "name": "ipython",
    "version": 3
   },
   "file_extension": ".py",
   "mimetype": "text/x-python",
   "name": "python",
   "nbconvert_exporter": "python",
   "pygments_lexer": "ipython3",
   "version": "3.5.2"
  }
 },
 "nbformat": 4,
 "nbformat_minor": 4
}
